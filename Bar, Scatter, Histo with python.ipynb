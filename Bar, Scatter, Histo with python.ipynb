{
 "cells": [
  {
   "cell_type": "code",
   "execution_count": 38,
   "id": "95802895",
   "metadata": {},
   "outputs": [],
   "source": [
    "#import primary modules\n",
    "import pandas as pd \n",
    "import numpy as np \n",
    "from scipy.stats import ttest_ind\n",
    "#import matplotlib & inline\n",
    "%matplotlib inline\n",
    "import matplotlib as mpl\n",
    "import matplotlib.pyplot as plt \n",
    "#import seaborn \n",
    "import seaborn as sns"
   ]
  },
  {
   "cell_type": "markdown",
   "id": "b68f8ff9",
   "metadata": {},
   "source": [
    "The dataset contains students performance and status. The data presents gender, race, parental level of education lunch and preparation of student.\n",
    "\n",
    "source: https://www.kaggle.com/datasets/spscientist/students-performance-in-exams\n"
   ]
  },
  {
   "cell_type": "code",
   "execution_count": 2,
   "id": "92c4d068",
   "metadata": {},
   "outputs": [],
   "source": [
    "#data read into a pandas dataframe \n",
    "df = pd.read_csv('StudentsPerformance.csv')"
   ]
  },
  {
   "cell_type": "markdown",
   "id": "bef6f199",
   "metadata": {},
   "source": [
    "1. cleaning and changing formats"
   ]
  },
  {
   "cell_type": "code",
   "execution_count": 3,
   "id": "bfe11f00",
   "metadata": {
    "scrolled": true
   },
   "outputs": [
    {
     "name": "stdout",
     "output_type": "stream",
     "text": [
      "<class 'pandas.core.frame.DataFrame'>\n",
      "RangeIndex: 1000 entries, 0 to 999\n",
      "Data columns (total 8 columns):\n",
      " #   Column                       Non-Null Count  Dtype \n",
      "---  ------                       --------------  ----- \n",
      " 0   gender                       1000 non-null   object\n",
      " 1   race/ethnicity               1000 non-null   object\n",
      " 2   parental level of education  1000 non-null   object\n",
      " 3   lunch                        1000 non-null   object\n",
      " 4   test preparation course      1000 non-null   object\n",
      " 5   math score                   1000 non-null   int64 \n",
      " 6   reading score                1000 non-null   int64 \n",
      " 7   writing score                1000 non-null   int64 \n",
      "dtypes: int64(3), object(5)\n",
      "memory usage: 62.6+ KB\n"
     ]
    }
   ],
   "source": [
    "#Checking data info\n",
    "df.info()\n"
   ]
  },
  {
   "cell_type": "markdown",
   "id": "7f0c64e8",
   "metadata": {},
   "source": [
    "no nulls are found "
   ]
  },
  {
   "cell_type": "code",
   "execution_count": 46,
   "id": "f4704efc",
   "metadata": {},
   "outputs": [
    {
     "data": {
      "text/html": [
       "<div>\n",
       "<style scoped>\n",
       "    .dataframe tbody tr th:only-of-type {\n",
       "        vertical-align: middle;\n",
       "    }\n",
       "\n",
       "    .dataframe tbody tr th {\n",
       "        vertical-align: top;\n",
       "    }\n",
       "\n",
       "    .dataframe thead th {\n",
       "        text-align: right;\n",
       "    }\n",
       "</style>\n",
       "<table border=\"1\" class=\"dataframe\">\n",
       "  <thead>\n",
       "    <tr style=\"text-align: right;\">\n",
       "      <th></th>\n",
       "      <th>gender</th>\n",
       "      <th>race/ethnicity</th>\n",
       "      <th>parental level of education</th>\n",
       "      <th>lunch</th>\n",
       "      <th>test preparation course</th>\n",
       "      <th>math score</th>\n",
       "      <th>reading score</th>\n",
       "      <th>writing score</th>\n",
       "      <th>total score</th>\n",
       "    </tr>\n",
       "  </thead>\n",
       "  <tbody>\n",
       "    <tr>\n",
       "      <th>0</th>\n",
       "      <td>female</td>\n",
       "      <td>group B</td>\n",
       "      <td>bachelor's degree</td>\n",
       "      <td>standard</td>\n",
       "      <td>none</td>\n",
       "      <td>72</td>\n",
       "      <td>72</td>\n",
       "      <td>74</td>\n",
       "      <td>72.7</td>\n",
       "    </tr>\n",
       "    <tr>\n",
       "      <th>1</th>\n",
       "      <td>female</td>\n",
       "      <td>group C</td>\n",
       "      <td>some college</td>\n",
       "      <td>standard</td>\n",
       "      <td>completed</td>\n",
       "      <td>69</td>\n",
       "      <td>90</td>\n",
       "      <td>88</td>\n",
       "      <td>82.3</td>\n",
       "    </tr>\n",
       "    <tr>\n",
       "      <th>2</th>\n",
       "      <td>female</td>\n",
       "      <td>group B</td>\n",
       "      <td>master's degree</td>\n",
       "      <td>standard</td>\n",
       "      <td>none</td>\n",
       "      <td>90</td>\n",
       "      <td>95</td>\n",
       "      <td>93</td>\n",
       "      <td>92.7</td>\n",
       "    </tr>\n",
       "    <tr>\n",
       "      <th>3</th>\n",
       "      <td>male</td>\n",
       "      <td>group A</td>\n",
       "      <td>associate's degree</td>\n",
       "      <td>free/reduced</td>\n",
       "      <td>none</td>\n",
       "      <td>47</td>\n",
       "      <td>57</td>\n",
       "      <td>44</td>\n",
       "      <td>49.3</td>\n",
       "    </tr>\n",
       "    <tr>\n",
       "      <th>4</th>\n",
       "      <td>male</td>\n",
       "      <td>group C</td>\n",
       "      <td>some college</td>\n",
       "      <td>standard</td>\n",
       "      <td>none</td>\n",
       "      <td>76</td>\n",
       "      <td>78</td>\n",
       "      <td>75</td>\n",
       "      <td>76.3</td>\n",
       "    </tr>\n",
       "  </tbody>\n",
       "</table>\n",
       "</div>"
      ],
      "text/plain": [
       "   gender race/ethnicity parental level of education         lunch  \\\n",
       "0  female        group B           bachelor's degree      standard   \n",
       "1  female        group C                some college      standard   \n",
       "2  female        group B             master's degree      standard   \n",
       "3    male        group A          associate's degree  free/reduced   \n",
       "4    male        group C                some college      standard   \n",
       "\n",
       "  test preparation course  math score  reading score  writing score  \\\n",
       "0                    none          72             72             74   \n",
       "1               completed          69             90             88   \n",
       "2                    none          90             95             93   \n",
       "3                    none          47             57             44   \n",
       "4                    none          76             78             75   \n",
       "\n",
       "   total score  \n",
       "0         72.7  \n",
       "1         82.3  \n",
       "2         92.7  \n",
       "3         49.3  \n",
       "4         76.3  "
      ]
     },
     "execution_count": 46,
     "metadata": {},
     "output_type": "execute_result"
    }
   ],
   "source": [
    "#view the top 5 rows of the dataset \n",
    "df.head()"
   ]
  },
  {
   "cell_type": "code",
   "execution_count": 5,
   "id": "b9469742",
   "metadata": {},
   "outputs": [
    {
     "data": {
      "text/plain": [
       "Index(['gender', 'race/ethnicity', 'parental level of education', 'lunch',\n",
       "       'test preparation course', 'math score', 'reading score',\n",
       "       'writing score'],\n",
       "      dtype='object')"
      ]
     },
     "execution_count": 5,
     "metadata": {},
     "output_type": "execute_result"
    }
   ],
   "source": [
    "#view column names \n",
    "df.columns"
   ]
  },
  {
   "cell_type": "markdown",
   "id": "45548469",
   "metadata": {},
   "source": [
    "changing formats "
   ]
  },
  {
   "cell_type": "code",
   "execution_count": 17,
   "id": "ae738474",
   "metadata": {},
   "outputs": [
    {
     "data": {
      "text/plain": [
       "True"
      ]
     },
     "execution_count": 17,
     "metadata": {},
     "output_type": "execute_result"
    }
   ],
   "source": [
    "# checking if all the columns are str type\n",
    "all(isinstance(column, str) for column in df.columns)"
   ]
  },
  {
   "cell_type": "markdown",
   "id": "a7485b6f",
   "metadata": {},
   "source": [
    "2. Analyze and visualization "
   ]
  },
  {
   "cell_type": "markdown",
   "id": "46aa9f7a",
   "metadata": {},
   "source": [
    "First, let's compare average math score by genders"
   ]
  },
  {
   "cell_type": "code",
   "execution_count": 48,
   "id": "4d3687c3",
   "metadata": {
    "scrolled": true
   },
   "outputs": [
    {
     "data": {
      "image/png": "[encoded data removed]",
      "text/plain": [
       "<Figure size 432x288 with 1 Axes>"
      ]
     },
     "metadata": {
      "needs_background": "light"
     },
     "output_type": "display_data"
    },
    {
     "name": "stdout",
     "output_type": "stream",
     "text": [
      "             mean     median        std\n",
      "       math score math score math score\n",
      "gender                                 \n",
      "female  63.633205         65  15.491453\n",
      "male    68.728216         69  14.356277\n"
     ]
    }
   ],
   "source": [
    "#creat new dataframe and grouping it by gender\n",
    "new_df = df.groupby(['gender'])['math score'].mean().reset_index()\n",
    "sns.barplot( x = 'gender', y = 'math score', hue = 'gender', data=new_df)\n",
    "plt.xlabel('gender')\n",
    "plt.ylabel('math_score')\n",
    "plt.title('Average math Scores by Gender') \n",
    "\n",
    "plt.show()\n",
    "\n",
    "pivot_table = df.pivot_table(index='gender', values='math score', aggfunc=['mean', 'median', 'std'])\n",
    "print(pivot_table)\n"
   ]
  },
  {
   "cell_type": "markdown",
   "id": "4fdf14a1",
   "metadata": {},
   "source": [
    "The result shows that the male students received higher average math score compare to female students\n",
    "let's compare other subjects other than math"
   ]
  },
  {
   "cell_type": "code",
   "execution_count": 7,
   "id": "7776acd5",
   "metadata": {},
   "outputs": [
    {
     "data": {
      "image/png": "[encoded data removed]",
      "text/plain": [
       "<Figure size 1080x360 with 3 Axes>"
      ]
     },
     "metadata": {
      "needs_background": "light"
     },
     "output_type": "display_data"
    }
   ],
   "source": [
    "#create new dataframe by group of gender and compare average score per subject\n",
    "#using subplot to visualize three graphs at once\n",
    "fig = plt.figure(figsize = (15,5))\n",
    "\n",
    "ax0 = fig.add_subplot(1,3,1)\n",
    "ax1 = fig.add_subplot (1, 3, 2)\n",
    "ax2 = fig.add_subplot (1, 3, 3)\n",
    "#adding space between each graphs\n",
    "plt.subplots_adjust(wspace = 0.4)\n",
    "\n",
    "#subplot1 : math score \n",
    "new_df = df.groupby(['gender'])['math score'].mean().reset_index()\n",
    "sns.barplot( x = 'gender', y = 'math score', hue = 'gender', data=new_df, ax=ax0)\n",
    "ax0.set_xlabel('gender')\n",
    "ax0.set_ylabel('math_score')\n",
    "ax0.set_title('Average math Scores by Gender') \n",
    "\n",
    "#subplot2 : reading score\n",
    "new_df1 = df.groupby(['gender'])['reading score'].mean().reset_index()\n",
    "sns.barplot( x = 'gender', y = 'reading score', hue = 'gender', data=new_df1, ax=ax1)\n",
    "ax1.set_xlabel('gender')\n",
    "ax1.set_ylabel('reading score')\n",
    "ax1.set_title('Average reading Scores by Gender') \n",
    "\n",
    "#subplot3: writing score\n",
    "new_df2 = df.groupby(['gender'])['writing score'].mean().reset_index()\n",
    "sns.barplot( x = 'gender', y = 'writing score', hue = 'gender', data=new_df2, ax=ax2)\n",
    "ax2.set_xlabel('gender')\n",
    "ax2.set_ylabel('writing score')\n",
    "ax2.set_title('Average writing Scores by Gender') \n",
    "\n",
    "plt.show()\n",
    "\n"
   ]
  },
  {
   "cell_type": "markdown",
   "id": "3182c50d",
   "metadata": {},
   "source": [
    "Graphs shows that male students received higher score in math, but lower in reading and writing compare to female students"
   ]
  },
  {
   "cell_type": "code",
   "execution_count": 8,
   "id": "31b17331",
   "metadata": {},
   "outputs": [
    {
     "data": {
      "text/html": [
       "<div>\n",
       "<style scoped>\n",
       "    .dataframe tbody tr th:only-of-type {\n",
       "        vertical-align: middle;\n",
       "    }\n",
       "\n",
       "    .dataframe tbody tr th {\n",
       "        vertical-align: top;\n",
       "    }\n",
       "\n",
       "    .dataframe thead th {\n",
       "        text-align: right;\n",
       "    }\n",
       "</style>\n",
       "<table border=\"1\" class=\"dataframe\">\n",
       "  <thead>\n",
       "    <tr style=\"text-align: right;\">\n",
       "      <th></th>\n",
       "      <th>gender</th>\n",
       "      <th>race/ethnicity</th>\n",
       "      <th>parental level of education</th>\n",
       "      <th>lunch</th>\n",
       "      <th>test preparation course</th>\n",
       "      <th>math score</th>\n",
       "      <th>reading score</th>\n",
       "      <th>writing score</th>\n",
       "      <th>total score</th>\n",
       "    </tr>\n",
       "  </thead>\n",
       "  <tbody>\n",
       "    <tr>\n",
       "      <th>0</th>\n",
       "      <td>female</td>\n",
       "      <td>group B</td>\n",
       "      <td>bachelor's degree</td>\n",
       "      <td>standard</td>\n",
       "      <td>none</td>\n",
       "      <td>72</td>\n",
       "      <td>72</td>\n",
       "      <td>74</td>\n",
       "      <td>72.7</td>\n",
       "    </tr>\n",
       "    <tr>\n",
       "      <th>1</th>\n",
       "      <td>female</td>\n",
       "      <td>group C</td>\n",
       "      <td>some college</td>\n",
       "      <td>standard</td>\n",
       "      <td>completed</td>\n",
       "      <td>69</td>\n",
       "      <td>90</td>\n",
       "      <td>88</td>\n",
       "      <td>82.3</td>\n",
       "    </tr>\n",
       "    <tr>\n",
       "      <th>2</th>\n",
       "      <td>female</td>\n",
       "      <td>group B</td>\n",
       "      <td>master's degree</td>\n",
       "      <td>standard</td>\n",
       "      <td>none</td>\n",
       "      <td>90</td>\n",
       "      <td>95</td>\n",
       "      <td>93</td>\n",
       "      <td>92.7</td>\n",
       "    </tr>\n",
       "    <tr>\n",
       "      <th>3</th>\n",
       "      <td>male</td>\n",
       "      <td>group A</td>\n",
       "      <td>associate's degree</td>\n",
       "      <td>free/reduced</td>\n",
       "      <td>none</td>\n",
       "      <td>47</td>\n",
       "      <td>57</td>\n",
       "      <td>44</td>\n",
       "      <td>49.3</td>\n",
       "    </tr>\n",
       "    <tr>\n",
       "      <th>4</th>\n",
       "      <td>male</td>\n",
       "      <td>group C</td>\n",
       "      <td>some college</td>\n",
       "      <td>standard</td>\n",
       "      <td>none</td>\n",
       "      <td>76</td>\n",
       "      <td>78</td>\n",
       "      <td>75</td>\n",
       "      <td>76.3</td>\n",
       "    </tr>\n",
       "  </tbody>\n",
       "</table>\n",
       "</div>"
      ],
      "text/plain": [
       "   gender race/ethnicity parental level of education         lunch  \\\n",
       "0  female        group B           bachelor's degree      standard   \n",
       "1  female        group C                some college      standard   \n",
       "2  female        group B             master's degree      standard   \n",
       "3    male        group A          associate's degree  free/reduced   \n",
       "4    male        group C                some college      standard   \n",
       "\n",
       "  test preparation course  math score  reading score  writing score  \\\n",
       "0                    none          72             72             74   \n",
       "1               completed          69             90             88   \n",
       "2                    none          90             95             93   \n",
       "3                    none          47             57             44   \n",
       "4                    none          76             78             75   \n",
       "\n",
       "   total score  \n",
       "0         72.7  \n",
       "1         82.3  \n",
       "2         92.7  \n",
       "3         49.3  \n",
       "4         76.3  "
      ]
     },
     "execution_count": 8,
     "metadata": {},
     "output_type": "execute_result"
    }
   ],
   "source": [
    "#adding total score column for easier plotting\n",
    "\n",
    "total_score = df['reading score']+ df['math score']+ df['writing score']\n",
    "total_ave_score = total_score / 3 \n",
    "total_ave_score\n",
    "\n",
    "df['total score'] = round(total_ave_score, 1)\n",
    "\n",
    "df.head()"
   ]
  },
  {
   "cell_type": "markdown",
   "id": "9891cf7d",
   "metadata": {},
   "source": [
    "let's find out if parental level of education has an effect on their child's performance in study\n"
   ]
  },
  {
   "cell_type": "code",
   "execution_count": 9,
   "id": "7685f416",
   "metadata": {},
   "outputs": [
    {
     "data": {
      "image/png": "[encoded data removed]",
      "text/plain": [
       "<Figure size 720x432 with 1 Axes>"
      ]
     },
     "metadata": {
      "needs_background": "light"
     },
     "output_type": "display_data"
    }
   ],
   "source": [
    "#create new dataframe by group of parental level of education, also gender for consistency \n",
    "df_df = df.groupby(['parental level of education', 'gender'])['total score'].mean().reset_index()\n",
    "plt.figure(figsize = (10,6))\n",
    "sns.barplot(x='gender', y='total score', hue = 'parental level of education', data=df_df)\n",
    "plt.xlabel('gender')\n",
    "plt.ylabel('total score')\n",
    "plt.title('total score by gender and parental level of education')\n",
    "plt.show()"
   ]
  },
  {
   "cell_type": "code",
   "execution_count": 22,
   "id": "30e1c7a0",
   "metadata": {},
   "outputs": [
    {
     "name": "stdout",
     "output_type": "stream",
     "text": [
      "                                          mean      median         std\n",
      "                                   total score total score total score\n",
      "parental level of education gender                                    \n",
      "associate's degree          female   71.124138       71.30   13.351324\n",
      "                            male     67.865094       68.85   13.867406\n",
      "bachelor's degree           female   74.673016       73.70   14.219151\n",
      "                            male     68.780000       68.00   13.064759\n",
      "high school                 female   64.750000       66.00   14.148975\n",
      "                            male     61.578431       62.50   12.779320\n",
      "master's degree             female   73.647222       71.20   14.697084\n",
      "                            male     73.517391       77.00   11.998888\n",
      "some college                female   71.000000       72.00   12.773965\n",
      "                            male     65.712963       65.15   14.221085\n",
      "some high school            female   65.564835       68.70   16.531877\n",
      "                            male     64.628409       65.50   13.269054\n"
     ]
    }
   ],
   "source": [
    "#pivot table for female and male student distinction \n",
    "pivot_table = df.pivot_table(index=['parental level of education', 'gender'], values='total score', aggfunc=['mean', 'median', 'std'])\n",
    "print(pivot_table)"
   ]
  },
  {
   "cell_type": "code",
   "execution_count": 23,
   "id": "4de55a87",
   "metadata": {},
   "outputs": [
    {
     "name": "stdout",
     "output_type": "stream",
     "text": [
      "                                   mean      median         std\n",
      "                            total score total score total score\n",
      "parental level of education                                    \n",
      "associate's degree            69.568018       69.70   13.667010\n",
      "bachelor's degree             71.926271       71.15   13.951175\n",
      "high school                   63.099490       65.00   13.512477\n",
      "master's degree               73.596610       73.30   13.600076\n",
      "some college                  68.473451       68.70   13.712479\n",
      "some high school              65.104469       66.70   14.982086\n"
     ]
    }
   ],
   "source": [
    "#pivot table for overall students\n",
    "pivot_table = df.pivot_table(index=['parental level of education'], values='total score', aggfunc=['mean', 'median', 'std'])\n",
    "print(pivot_table)"
   ]
  },
  {
   "cell_type": "markdown",
   "id": "9b673373",
   "metadata": {},
   "source": [
    "Overall, the result shows that parental level of education has an effect on their child's performance however, for female students, parents with bachelor's degree received higher average score compare to parents with master's degree."
   ]
  },
  {
   "cell_type": "markdown",
   "id": "55ec53c6",
   "metadata": {},
   "source": [
    "let's find out if preparation course has any relationship between test score\n"
   ]
  },
  {
   "cell_type": "code",
   "execution_count": 42,
   "id": "3e7803f4",
   "metadata": {},
   "outputs": [
    {
     "data": {
      "image/png": "[encoded data removed]",
      "text/plain": [
       "<Figure size 432x288 with 1 Axes>"
      ]
     },
     "metadata": {
      "needs_background": "light"
     },
     "output_type": "display_data"
    },
    {
     "name": "stdout",
     "output_type": "stream",
     "text": [
      "                               mean      median         std\n",
      "                        total score total score total score\n",
      "test preparation course                                    \n",
      "completed                 72.669553        73.5   13.038673\n",
      "none                      65.037539        65.3   14.185340\n",
      "T-statistic: 8.392785503570561\n",
      "P-value: 1.6100509035985566e-16\n"
     ]
    }
   ],
   "source": [
    "#Scatter plot for preparation course and total score\n",
    "size = df['test preparation course']\n",
    "sns.scatterplot(data = df, x = 'test preparation course', y = 'total score', size = size)\n",
    "plt.xlabel('test preparation course attendance')\n",
    "plt.ylabel('total score')\n",
    "plt.title('preparation course impact on test score')\n",
    "plt.show()\n",
    "#pivot table \n",
    "pivot_table = df.pivot_table(index='test preparation course', values='total score', aggfunc=['mean', 'median', 'std'])\n",
    "print(pivot_table)\n",
    "#create two dinstinct group by preparation test completion status \n",
    "group_prepared = df[df['test preparation course'] == 'completed']['total score']\n",
    "group_not_prepared = df[df['test preparation course'] == 'none']['total score']\n",
    "#T-test \n",
    "t_statistic, p_value = ttest_ind(group_prepared, group_not_prepared)\n",
    "print(\"T-statistic:\", t_statistic)\n",
    "print(\"P-value:\", p_value)\n"
   ]
  },
  {
   "cell_type": "markdown",
   "id": "b379c525",
   "metadata": {},
   "source": [
    "since one variable is categorical and one is continuous by using T-test, the results shows the P-value less than 0.001 so, there is extremely strong evidence Therefore, the data provide sufficient evidence to conclude that there is a relationship between preparation course and test score. \n",
    "\n",
    "also the graph presents students with no preparation course received significantly lower test score compare to students who completed \n",
    "preparation course"
   ]
  },
  {
   "cell_type": "markdown",
   "id": "84339f2e",
   "metadata": {},
   "source": [
    "next, Lunch and total score relationship"
   ]
  },
  {
   "cell_type": "code",
   "execution_count": 47,
   "id": "da6f5439",
   "metadata": {},
   "outputs": [
    {
     "data": {
      "image/png": "[encoded data removed]",
      "text/plain": [
       "<Figure size 432x288 with 1 Axes>"
      ]
     },
     "metadata": {
      "needs_background": "light"
     },
     "output_type": "display_data"
    },
    {
     "name": "stdout",
     "output_type": "stream",
     "text": [
      "                    mean      median         std\n",
      "             total score total score total score\n",
      "lunch                                           \n",
      "free/reduced   62.198310        62.7   14.457969\n",
      "standard       70.836279        71.3   13.186544\n",
      "T-statistic: 9.574990678715867\n",
      "P-value: 7.745187551390862e-21\n"
     ]
    }
   ],
   "source": [
    "#scatter plot for lunch and total score\n",
    "sns.scatterplot(data = df, x = 'lunch' , y = 'total score')\n",
    "plt.xlabel('lunch')\n",
    "plt.ylabel('total score')\n",
    "plt.title('lunch impact on total score')\n",
    "plt.show()\n",
    "\n",
    "#pivot table \n",
    "pivot_table = df.pivot_table(index='lunch', values='total score', aggfunc=['mean', 'median', 'std'])\n",
    "print(pivot_table)\n",
    "\n",
    "#create two dinstinct group by lunch status \n",
    "standard_lunch = df[df['lunch'] == 'standard']['total score']\n",
    "reduced_lunch = df[df['lunch'] == 'free/reduced']['total score']\n",
    "\n",
    "#T-test \n",
    "t_statistic, p_value = ttest_ind(standard_lunch, reduced_lunch)\n",
    "print(\"T-statistic:\", t_statistic)\n",
    "print(\"P-value:\", p_value)"
   ]
  },
  {
   "cell_type": "markdown",
   "id": "1eb6b451",
   "metadata": {},
   "source": [
    "As the grpah shows, students with free/reduced lunch received significantly lower score compare to students with standard lunch. and P-value from T-test is lower than 0.001 provide sufficient evidence to prove that there is a relationship between lunch and test score. "
   ]
  },
  {
   "cell_type": "markdown",
   "id": "2c1a8a27",
   "metadata": {},
   "source": [
    "Fianlly Ethnicity and total score"
   ]
  },
  {
   "cell_type": "code",
   "execution_count": 49,
   "id": "432af131",
   "metadata": {},
   "outputs": [
    {
     "data": {
      "image/png": "[encoded data removed]",
      "text/plain": [
       "<Figure size 432x288 with 1 Axes>"
      ]
     },
     "metadata": {
      "needs_background": "light"
     },
     "output_type": "display_data"
    },
    {
     "name": "stdout",
     "output_type": "stream",
     "text": [
      "                      mean      median         std\n",
      "               total score total score total score\n",
      "race/ethnicity                                    \n",
      "group A          62.988764        61.3   14.448902\n",
      "group B          65.470000        65.0   14.733527\n",
      "group C          67.130721        68.3   13.871086\n",
      "group D          69.179389        70.0   13.250497\n",
      "group E          72.748571        73.5   14.566605\n"
     ]
    }
   ],
   "source": [
    "#histogram for how each group of ethnicity spreads on score  \n",
    "sns.histplot(data= df, x = 'total score', hue = 'race/ethnicity', multiple='stack')\n",
    "plt.show()\n",
    "\n",
    "#statistic table\n",
    "pivot_table = df.pivot_table(index='race/ethnicity', values='total score', aggfunc=['mean', 'median', 'std'])\n",
    "print(pivot_table)"
   ]
  },
  {
   "cell_type": "markdown",
   "id": "4bd47f0d",
   "metadata": {},
   "source": [
    "Graph shows almsot evenly spread for each ethniciticy, but we can clearly observe that Group E have higher presence in the upper \n",
    "score compare to other groups"
   ]
  },
  {
   "cell_type": "markdown",
   "id": "2635e080",
   "metadata": {},
   "source": [
    "Bar plot for ethnicity and lunch together"
   ]
  },
  {
   "cell_type": "code",
   "execution_count": 14,
   "id": "fe664ed0",
   "metadata": {},
   "outputs": [
    {
     "data": {
      "text/plain": [
       "<AxesSubplot:xlabel='race/ethnicity', ylabel='total score'>"
      ]
     },
     "execution_count": 14,
     "metadata": {},
     "output_type": "execute_result"
    },
    {
     "data": {
      "image/png": "[encoded data removed]",
      "text/plain": [
       "<Figure size 432x288 with 1 Axes>"
      ]
     },
     "metadata": {
      "needs_background": "light"
     },
     "output_type": "display_data"
    }
   ],
   "source": [
    "#Seaborn barplot \n",
    "sns.barplot(x='race/ethnicity', y='total score', hue = 'lunch', data=df)\n"
   ]
  },
  {
   "cell_type": "markdown",
   "id": "8666e66d",
   "metadata": {},
   "source": [
    "this graph clearly shows that students with standard lunch received higher score compare to students with free/reduced lunch for every group \n",
    "Group E received distinctly higher score compare to other groups, and rest of the groups received similar average scores."
   ]
  },
  {
   "cell_type": "code",
   "execution_count": null,
   "id": "f72cf507",
   "metadata": {},
   "outputs": [],
   "source": []
  }
 ],
 "metadata": {
  "kernelspec": {
   "display_name": "Python 3 (ipykernel)",
   "language": "python",
   "name": "python3"
  },
  "language_info": {
   "codemirror_mode": {
    "name": "ipython",
    "version": 3
   },
   "file_extension": ".py",
   "mimetype": "text/x-python",
   "name": "python",
   "nbconvert_exporter": "python",
   "pygments_lexer": "ipython3",
   "version": "3.9.12"
  }
 },
 "nbformat": 4,
 "nbformat_minor": 5
}
